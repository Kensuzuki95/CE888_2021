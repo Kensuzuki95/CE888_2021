{
  "nbformat": 4,
  "nbformat_minor": 0,
  "metadata": {
    "colab": {
      "name": "Lab_1.ipynb",
      "provenance": []
    },
    "kernelspec": {
      "name": "python3",
      "display_name": "Python 3"
    },
    "accelerator": "GPU"
  },
  "cells": [
    {
      "cell_type": "markdown",
      "metadata": {
        "id": "6X-TO_KR1mjo"
      },
      "source": [
        "## Questions to be done during the lab:\n",
        "\n",
        "**Questions 1.** \n",
        "Write a function name 'avg', which take an array of number and calculate the average\n",
        "\n",
        "\n"
      ]
    },
    {
      "cell_type": "code",
      "metadata": {
        "id": "TiuSggyDgNb5"
      },
      "source": [
        "#Import necesarry packages\r\n",
        "import numpy as np\r\n",
        "import statistics\r\n",
        "import matplotlib.pyplot as plt\r\n"
      ],
      "execution_count": 5,
      "outputs": []
    },
    {
      "cell_type": "code",
      "metadata": {
        "id": "vbu3Vga33lw3",
        "outputId": "b7e3d7f5-c4a1-4026-d0ed-20735983bb19",
        "colab": {
          "base_uri": "https://localhost:8080/"
        }
      },
      "source": [
        "def avg(marks):\n",
        "    avg = np.mean(marks)\n",
        "    #avg = sum(mark2)/len(mark2) #Alternative option\n",
        "    #avg = avg = statistics.mean(mark2)\n",
        "    return avg\n",
        "\n",
        "mark2 = [55,88,78,90,79]\n",
        "\n",
        "avg(mark2)"
      ],
      "execution_count": 11,
      "outputs": [
        {
          "output_type": "execute_result",
          "data": {
            "text/plain": [
              "78"
            ]
          },
          "metadata": {
            "tags": []
          },
          "execution_count": 11
        }
      ]
    },
    {
      "cell_type": "code",
      "metadata": {
        "id": "MtgR1Y695RpD"
      },
      "source": [
        "# Only run this cell to check your answer. If it is true then no error will be raised\n",
        "assert(avg(mark2) == np.mean(mark2))"
      ],
      "execution_count": 9,
      "outputs": []
    },
    {
      "cell_type": "markdown",
      "metadata": {
        "id": "W1hVtS896cfi"
      },
      "source": [
        "**Questions 2**.\n",
        "Write a function name 'areaCricle', which take radius as a argument and calculate the area. \n",
        "\n"
      ]
    },
    {
      "cell_type": "code",
      "metadata": {
        "id": "Fn7_nt8-vUao",
        "colab": {
          "base_uri": "https://localhost:8080/"
        },
        "outputId": "e84d7926-c45b-40fc-bd0f-42ab9566ffea"
      },
      "source": [
        "from math import pi # Use pi value from math package\n",
        "def areaCricle(radius):\n",
        "    area = round(pi * radius **2, 2)\n",
        "    return area\n",
        "\n",
        "areaCricle(10)"
      ],
      "execution_count": 19,
      "outputs": [
        {
          "output_type": "execute_result",
          "data": {
            "text/plain": [
              "314.16"
            ]
          },
          "metadata": {
            "tags": []
          },
          "execution_count": 19
        }
      ]
    },
    {
      "cell_type": "code",
      "metadata": {
        "id": "BML90x25vikN"
      },
      "source": [
        "# Only run this cell to check your answer. If it is true then no error will be raised\n",
        "assert(round(areaCricle(10),2) == 314.16)"
      ],
      "execution_count": 20,
      "outputs": []
    },
    {
      "cell_type": "markdown",
      "metadata": {
        "id": "_EfKc7-3x2k8"
      },
      "source": [
        "**Question 3.**\n",
        "Write a function that takes a list of items and returns a new list with the order of items reversed, without using any inbuilt Python features that will do this for you (e.g. .reverse() or reversed(…)). As specified in the instructions, your function must not modify the contents of the original list."
      ]
    },
    {
      "cell_type": "code",
      "metadata": {
        "id": "rEtOO9yPyKwe"
      },
      "source": [
        "#Use list slicing technique\n",
        "def reversed_list(in_list):\n",
        "    reversed_list = in_list[::-1] \n",
        "    #raise NotImplementedError()\n",
        "    return reversed_list"
      ],
      "execution_count": 53,
      "outputs": []
    },
    {
      "cell_type": "code",
      "metadata": {
        "id": "6r8Rk5luksQ6"
      },
      "source": [
        "# Use reverse() syntax\r\n",
        "def reversed_list(in_list):\r\n",
        "    in_list.reverse()\r\n",
        "    return in_list"
      ],
      "execution_count": 54,
      "outputs": []
    },
    {
      "cell_type": "code",
      "metadata": {
        "id": "bVyMOVMLyRib"
      },
      "source": [
        "# Only run this cell to check your answer. If it is true then no error will be raised\n",
        "assert(reversed_list([1, 2]) == [2, 1])"
      ],
      "execution_count": 55,
      "outputs": []
    },
    {
      "cell_type": "markdown",
      "metadata": {
        "id": "DFQPTbd90pPN"
      },
      "source": [
        "**Question 4.** \n",
        "\n",
        "*Read carefully: *Write a function to perform a Bubble Sort on a list of numbers. \n",
        "\n",
        "Bubble sort is a sorting algorithm and works by iterating over the list, comparing adjacent items, and swapping them if they are out of order.\n",
        "\n",
        "Notice that after the first pass of a bubble sort, the biggest item is always moved to the end of the list. This means the next iteration does not need to check the final position of the list.\n",
        "\n",
        "In addition, you can keep track of how many items were swapped on each iteration. If this count is zero on any iteration, then the list must be fully sorted, in which case the algorithm can stop early.\n",
        "\n",
        "Hint: To understand Bubble Sort Algorithm, please [Watch](https://www.youtube.com/watch?v=xli_FI7CuzA)"
      ]
    },
    {
      "cell_type": "code",
      "metadata": {
        "id": "sGkDiI3b1DpQ",
        "outputId": "a114a3a7-debb-40b1-ef7f-d81f0161dedf",
        "colab": {
          "base_uri": "https://localhost:8080/"
        }
      },
      "source": [
        "def bubble_sort(in_list):\n",
        "  for i in range(len(in_list)):\n",
        "    # We want the last pair of adjacent elements to be (n-2, n-1)\n",
        "    for j in range(len(in_list) - 1):\n",
        "      #recognie whether if the current number is bigger than the later number\n",
        "      if in_list[j] > in_list[j+1]:\n",
        "        #implimenting swapping if the later number is bigger than the current number\n",
        "        in_list[j], in_list[j+1] = in_list[j+1], in_list[j]\n",
        "  return in_list"
      ],
      "execution_count": 46,
      "outputs": [
        {
          "output_type": "execute_result",
          "data": {
            "text/plain": [
              "[5, 10, 12, 23, 46, 111]"
            ]
          },
          "metadata": {
            "tags": []
          },
          "execution_count": 46
        }
      ]
    },
    {
      "cell_type": "code",
      "metadata": {
        "id": "ReCP5Nv_1ETF"
      },
      "source": [
        "# Only run this cell to check your answer. If it is true then no error will be raised\n",
        "assert(bubble_sort([37, 42, 9, 19, 35, 4, 53, 22]) == [4, 9, 19, 22, 35, 37, 42, 53])\n",
        "assert(bubble_sort([5, 4, 3, 2, 1]) == [1, 2, 3, 4, 5])"
      ],
      "execution_count": 47,
      "outputs": []
    },
    {
      "cell_type": "markdown",
      "metadata": {
        "id": "c6y0x8KsvySS"
      },
      "source": [
        "**Question 5.** \n",
        "\n",
        "Write a function to find $n^{th}$ Fibonacci number\n",
        "The Fibonacci numbers are the numbers in the following integer sequence.\n",
        "0, 1, 1, 2, 3, 5, 8, 13, 21, 34, 55, 89, 144, ……..\n",
        "In mathematical terms, the sequence $F_n$ of Fibonacci numbers is defined by the recurrence relation \n",
        "\n",
        "$F_n = F_n-1 + F_n-2$\n",
        "\n",
        "with seed values \n",
        "\n",
        "$F_0 = 0$ and $F_1 = 1$"
      ]
    },
    {
      "cell_type": "code",
      "metadata": {
        "colab": {
          "base_uri": "https://localhost:8080/"
        },
        "id": "dlMnigUrvxb9",
        "outputId": "d15ceaca-1e2b-4980-bea5-212c657cd744"
      },
      "source": [
        "def Fibonacci(n):\n",
        "  if n <= 1:\n",
        "    return n\n",
        "  else:\n",
        "    return (Fibonacci(n-1) + Fibonacci(n-2))\n",
        "Fibonacci(9)"
      ],
      "execution_count": 119,
      "outputs": [
        {
          "output_type": "execute_result",
          "data": {
            "text/plain": [
              "34"
            ]
          },
          "metadata": {
            "tags": []
          },
          "execution_count": 119
        }
      ]
    },
    {
      "cell_type": "code",
      "metadata": {
        "id": "8J60dvwu5t3l",
        "outputId": "621c42a0-969f-46b9-8171-90c1a4ce93ae",
        "colab": {
          "base_uri": "https://localhost:8080/"
        }
      },
      "source": [
        "#If you want to check in a differnt way\r\n",
        "import pandas as pd\r\n",
        "L=[0,1]\r\n",
        "for i in range(1,20):\r\n",
        "    fib_list = pd.Series(L.append(L[-1]+L[-2]))\r\n",
        "L[9]"
      ],
      "execution_count": 115,
      "outputs": [
        {
          "output_type": "stream",
          "text": [
            "/usr/local/lib/python3.6/dist-packages/ipykernel_launcher.py:4: DeprecationWarning: The default dtype for empty Series will be 'object' instead of 'float64' in a future version. Specify a dtype explicitly to silence this warning.\n",
            "  after removing the cwd from sys.path.\n"
          ],
          "name": "stderr"
        },
        {
          "output_type": "execute_result",
          "data": {
            "text/plain": [
              "34"
            ]
          },
          "metadata": {
            "tags": []
          },
          "execution_count": 115
        }
      ]
    },
    {
      "cell_type": "code",
      "metadata": {
        "id": "8OJv6zQKxzKj",
        "outputId": "1643e25c-69de-4faa-9727-ec32f7e0fd83",
        "colab": {
          "base_uri": "https://localhost:8080/",
          "height": 200
        }
      },
      "source": [
        "# Only run this cell to check your answer. If it is true then no error will be raised\n",
        "assert(Fibonacci(7) == 13)\n",
        "assert(Fibonacci(9) == 21)"
      ],
      "execution_count": 121,
      "outputs": [
        {
          "output_type": "error",
          "ename": "AssertionError",
          "evalue": "ignored",
          "traceback": [
            "\u001b[0;31m---------------------------------------------------------------------------\u001b[0m",
            "\u001b[0;31mAssertionError\u001b[0m                            Traceback (most recent call last)",
            "\u001b[0;32m<ipython-input-121-cee17924fb48>\u001b[0m in \u001b[0;36m<module>\u001b[0;34m()\u001b[0m\n\u001b[1;32m      1\u001b[0m \u001b[0;31m# Only run this cell to check your answer. If it is true then no error will be raised\u001b[0m\u001b[0;34m\u001b[0m\u001b[0;34m\u001b[0m\u001b[0;34m\u001b[0m\u001b[0m\n\u001b[1;32m      2\u001b[0m \u001b[0;32massert\u001b[0m\u001b[0;34m(\u001b[0m\u001b[0mFibonacci\u001b[0m\u001b[0;34m(\u001b[0m\u001b[0;36m7\u001b[0m\u001b[0;34m)\u001b[0m \u001b[0;34m==\u001b[0m \u001b[0;36m13\u001b[0m\u001b[0;34m)\u001b[0m\u001b[0;34m\u001b[0m\u001b[0;34m\u001b[0m\u001b[0m\n\u001b[0;32m----> 3\u001b[0;31m \u001b[0;32massert\u001b[0m\u001b[0;34m(\u001b[0m\u001b[0mFibonacci\u001b[0m\u001b[0;34m(\u001b[0m\u001b[0;36m9\u001b[0m\u001b[0;34m)\u001b[0m \u001b[0;34m==\u001b[0m \u001b[0;36m21\u001b[0m\u001b[0;34m)\u001b[0m\u001b[0;34m\u001b[0m\u001b[0;34m\u001b[0m\u001b[0m\n\u001b[0m",
            "\u001b[0;31mAssertionError\u001b[0m: "
          ]
        }
      ]
    }
  ]
}